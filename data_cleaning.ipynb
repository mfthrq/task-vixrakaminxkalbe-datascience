{
 "cells": [
  {
   "cell_type": "code",
   "execution_count": 1,
   "metadata": {},
   "outputs": [],
   "source": [
    "import pandas as pd"
   ]
  },
  {
   "cell_type": "code",
   "execution_count": 3,
   "metadata": {},
   "outputs": [],
   "source": [
    "data = pd.read_csv('Dataset CCV 4 - Data Cleaning.csv')"
   ]
  },
  {
   "cell_type": "code",
   "execution_count": 4,
   "metadata": {},
   "outputs": [
    {
     "data": {
      "text/html": [
       "<div>\n",
       "<style scoped>\n",
       "    .dataframe tbody tr th:only-of-type {\n",
       "        vertical-align: middle;\n",
       "    }\n",
       "\n",
       "    .dataframe tbody tr th {\n",
       "        vertical-align: top;\n",
       "    }\n",
       "\n",
       "    .dataframe thead th {\n",
       "        text-align: right;\n",
       "    }\n",
       "</style>\n",
       "<table border=\"1\" class=\"dataframe\">\n",
       "  <thead>\n",
       "    <tr style=\"text-align: right;\">\n",
       "      <th></th>\n",
       "      <th>id_order</th>\n",
       "      <th>id_produk</th>\n",
       "      <th>nama_produk</th>\n",
       "      <th>kategori_produk</th>\n",
       "      <th>tanggal_pembelian</th>\n",
       "      <th>kuantitas</th>\n",
       "      <th>total_harga</th>\n",
       "      <th>PPN</th>\n",
       "      <th>bayar_cash</th>\n",
       "      <th>metode_bayar</th>\n",
       "    </tr>\n",
       "  </thead>\n",
       "  <tbody>\n",
       "    <tr>\n",
       "      <th>0</th>\n",
       "      <td>1</td>\n",
       "      <td>3</td>\n",
       "      <td>hic1000 vitamin lemon</td>\n",
       "      <td>beverages</td>\n",
       "      <td>2023-04-09</td>\n",
       "      <td>5.0</td>\n",
       "      <td>39452.0</td>\n",
       "      <td>0.1</td>\n",
       "      <td>1.0</td>\n",
       "      <td>cash</td>\n",
       "    </tr>\n",
       "    <tr>\n",
       "      <th>1</th>\n",
       "      <td>2</td>\n",
       "      <td>6</td>\n",
       "      <td>nutrive benecol</td>\n",
       "      <td>special needs</td>\n",
       "      <td>2023-05-01</td>\n",
       "      <td>1.0</td>\n",
       "      <td>33732.0</td>\n",
       "      <td>0.1</td>\n",
       "      <td>1.0</td>\n",
       "      <td>cash</td>\n",
       "    </tr>\n",
       "    <tr>\n",
       "      <th>2</th>\n",
       "      <td>3</td>\n",
       "      <td>6</td>\n",
       "      <td>nutrive benecol</td>\n",
       "      <td>special needs</td>\n",
       "      <td>2023-03-22</td>\n",
       "      <td>NaN</td>\n",
       "      <td>23035.0</td>\n",
       "      <td>0.1</td>\n",
       "      <td>1.0</td>\n",
       "      <td>cash</td>\n",
       "    </tr>\n",
       "    <tr>\n",
       "      <th>3</th>\n",
       "      <td>4</td>\n",
       "      <td>5</td>\n",
       "      <td>prenagen lova</td>\n",
       "      <td>woman</td>\n",
       "      <td>2023-04-12</td>\n",
       "      <td>2.0</td>\n",
       "      <td>31237.0</td>\n",
       "      <td>0.1</td>\n",
       "      <td>0.0</td>\n",
       "      <td>link aja</td>\n",
       "    </tr>\n",
       "    <tr>\n",
       "      <th>4</th>\n",
       "      <td>5</td>\n",
       "      <td>6</td>\n",
       "      <td>nutrive benecol</td>\n",
       "      <td>special needs</td>\n",
       "      <td>2023-01-20</td>\n",
       "      <td>5.0</td>\n",
       "      <td>32000.0</td>\n",
       "      <td>0.1</td>\n",
       "      <td>1.0</td>\n",
       "      <td>cash</td>\n",
       "    </tr>\n",
       "  </tbody>\n",
       "</table>\n",
       "</div>"
      ],
      "text/plain": [
       "   id_order  id_produk            nama_produk kategori_produk  \\\n",
       "0         1          3  hic1000 vitamin lemon       beverages   \n",
       "1         2          6        nutrive benecol   special needs   \n",
       "2         3          6        nutrive benecol   special needs   \n",
       "3         4          5          prenagen lova           woman   \n",
       "4         5          6        nutrive benecol   special needs   \n",
       "\n",
       "  tanggal_pembelian  kuantitas  total_harga  PPN  bayar_cash metode_bayar  \n",
       "0        2023-04-09        5.0      39452.0  0.1         1.0         cash  \n",
       "1        2023-05-01        1.0      33732.0  0.1         1.0         cash  \n",
       "2        2023-03-22        NaN      23035.0  0.1         1.0         cash  \n",
       "3        2023-04-12        2.0      31237.0  0.1         0.0     link aja  \n",
       "4        2023-01-20        5.0      32000.0  0.1         1.0         cash  "
      ]
     },
     "execution_count": 4,
     "metadata": {},
     "output_type": "execute_result"
    }
   ],
   "source": [
    "data.head()"
   ]
  },
  {
   "cell_type": "code",
   "execution_count": 10,
   "metadata": {},
   "outputs": [
    {
     "data": {
      "text/plain": [
       "(1712, 10)"
      ]
     },
     "execution_count": 10,
     "metadata": {},
     "output_type": "execute_result"
    }
   ],
   "source": [
    "data.shape"
   ]
  },
  {
   "cell_type": "code",
   "execution_count": 11,
   "metadata": {},
   "outputs": [
    {
     "name": "stdout",
     "output_type": "stream",
     "text": [
      "<class 'pandas.core.frame.DataFrame'>\n",
      "RangeIndex: 1712 entries, 0 to 1711\n",
      "Data columns (total 10 columns):\n",
      " #   Column             Non-Null Count  Dtype  \n",
      "---  ------             --------------  -----  \n",
      " 0   id_order           1712 non-null   int64  \n",
      " 1   id_produk          1712 non-null   int64  \n",
      " 2   nama_produk        1712 non-null   object \n",
      " 3   kategori_produk    1712 non-null   object \n",
      " 4   tanggal_pembelian  1712 non-null   object \n",
      " 5   kuantitas          1692 non-null   float64\n",
      " 6   total_harga        1692 non-null   float64\n",
      " 7   PPN                1711 non-null   float64\n",
      " 8   bayar_cash         1704 non-null   float64\n",
      " 9   metode_bayar       1712 non-null   object \n",
      "dtypes: float64(4), int64(2), object(4)\n",
      "memory usage: 133.9+ KB\n"
     ]
    }
   ],
   "source": [
    "data.info()"
   ]
  },
  {
   "cell_type": "code",
   "execution_count": 12,
   "metadata": {},
   "outputs": [
    {
     "data": {
      "text/html": [
       "<div>\n",
       "<style scoped>\n",
       "    .dataframe tbody tr th:only-of-type {\n",
       "        vertical-align: middle;\n",
       "    }\n",
       "\n",
       "    .dataframe tbody tr th {\n",
       "        vertical-align: top;\n",
       "    }\n",
       "\n",
       "    .dataframe thead th {\n",
       "        text-align: right;\n",
       "    }\n",
       "</style>\n",
       "<table border=\"1\" class=\"dataframe\">\n",
       "  <thead>\n",
       "    <tr style=\"text-align: right;\">\n",
       "      <th></th>\n",
       "      <th>id_order</th>\n",
       "      <th>id_produk</th>\n",
       "      <th>kuantitas</th>\n",
       "      <th>total_harga</th>\n",
       "      <th>PPN</th>\n",
       "      <th>bayar_cash</th>\n",
       "    </tr>\n",
       "  </thead>\n",
       "  <tbody>\n",
       "    <tr>\n",
       "      <th>count</th>\n",
       "      <td>1712.000000</td>\n",
       "      <td>1712.000000</td>\n",
       "      <td>1692.000000</td>\n",
       "      <td>1692.000000</td>\n",
       "      <td>1.711000e+03</td>\n",
       "      <td>1704.000000</td>\n",
       "    </tr>\n",
       "    <tr>\n",
       "      <th>mean</th>\n",
       "      <td>856.500000</td>\n",
       "      <td>3.442173</td>\n",
       "      <td>3.947991</td>\n",
       "      <td>43542.563830</td>\n",
       "      <td>1.000000e-01</td>\n",
       "      <td>0.601526</td>\n",
       "    </tr>\n",
       "    <tr>\n",
       "      <th>std</th>\n",
       "      <td>494.356147</td>\n",
       "      <td>1.740345</td>\n",
       "      <td>1.983287</td>\n",
       "      <td>14971.400255</td>\n",
       "      <td>1.388185e-17</td>\n",
       "      <td>0.489728</td>\n",
       "    </tr>\n",
       "    <tr>\n",
       "      <th>min</th>\n",
       "      <td>1.000000</td>\n",
       "      <td>1.000000</td>\n",
       "      <td>1.000000</td>\n",
       "      <td>17264.000000</td>\n",
       "      <td>1.000000e-01</td>\n",
       "      <td>0.000000</td>\n",
       "    </tr>\n",
       "    <tr>\n",
       "      <th>25%</th>\n",
       "      <td>428.750000</td>\n",
       "      <td>2.000000</td>\n",
       "      <td>2.000000</td>\n",
       "      <td>30973.750000</td>\n",
       "      <td>1.000000e-01</td>\n",
       "      <td>0.000000</td>\n",
       "    </tr>\n",
       "    <tr>\n",
       "      <th>50%</th>\n",
       "      <td>856.500000</td>\n",
       "      <td>3.000000</td>\n",
       "      <td>4.000000</td>\n",
       "      <td>43339.500000</td>\n",
       "      <td>1.000000e-01</td>\n",
       "      <td>1.000000</td>\n",
       "    </tr>\n",
       "    <tr>\n",
       "      <th>75%</th>\n",
       "      <td>1284.250000</td>\n",
       "      <td>5.000000</td>\n",
       "      <td>6.000000</td>\n",
       "      <td>56225.750000</td>\n",
       "      <td>1.000000e-01</td>\n",
       "      <td>1.000000</td>\n",
       "    </tr>\n",
       "    <tr>\n",
       "      <th>max</th>\n",
       "      <td>1712.000000</td>\n",
       "      <td>6.000000</td>\n",
       "      <td>7.000000</td>\n",
       "      <td>69824.000000</td>\n",
       "      <td>1.000000e-01</td>\n",
       "      <td>1.000000</td>\n",
       "    </tr>\n",
       "  </tbody>\n",
       "</table>\n",
       "</div>"
      ],
      "text/plain": [
       "          id_order    id_produk    kuantitas   total_harga           PPN  \\\n",
       "count  1712.000000  1712.000000  1692.000000   1692.000000  1.711000e+03   \n",
       "mean    856.500000     3.442173     3.947991  43542.563830  1.000000e-01   \n",
       "std     494.356147     1.740345     1.983287  14971.400255  1.388185e-17   \n",
       "min       1.000000     1.000000     1.000000  17264.000000  1.000000e-01   \n",
       "25%     428.750000     2.000000     2.000000  30973.750000  1.000000e-01   \n",
       "50%     856.500000     3.000000     4.000000  43339.500000  1.000000e-01   \n",
       "75%    1284.250000     5.000000     6.000000  56225.750000  1.000000e-01   \n",
       "max    1712.000000     6.000000     7.000000  69824.000000  1.000000e-01   \n",
       "\n",
       "        bayar_cash  \n",
       "count  1704.000000  \n",
       "mean      0.601526  \n",
       "std       0.489728  \n",
       "min       0.000000  \n",
       "25%       0.000000  \n",
       "50%       1.000000  \n",
       "75%       1.000000  \n",
       "max       1.000000  "
      ]
     },
     "execution_count": 12,
     "metadata": {},
     "output_type": "execute_result"
    }
   ],
   "source": [
    "data.describe()"
   ]
  },
  {
   "cell_type": "code",
   "execution_count": 13,
   "metadata": {},
   "outputs": [],
   "source": [
    "data = data.fillna(\n",
    "    {\n",
    "        'kuantitas': float(f'{data.kuantitas.median()}'),\n",
    "        'total_harga': float(f'{data.total_harga.median()}'),\n",
    "        'PPN':0.1\n",
    "    }\n",
    ")"
   ]
  },
  {
   "cell_type": "code",
   "execution_count": 15,
   "metadata": {},
   "outputs": [],
   "source": [
    "data = data.drop(columns = 'bayar_cash')"
   ]
  },
  {
   "cell_type": "code",
   "execution_count": 16,
   "metadata": {},
   "outputs": [
    {
     "data": {
      "text/plain": [
       "id_order             0\n",
       "id_produk            0\n",
       "nama_produk          0\n",
       "kategori_produk      0\n",
       "tanggal_pembelian    0\n",
       "kuantitas            0\n",
       "total_harga          0\n",
       "PPN                  0\n",
       "metode_bayar         0\n",
       "dtype: int64"
      ]
     },
     "execution_count": 16,
     "metadata": {},
     "output_type": "execute_result"
    }
   ],
   "source": [
    "data.isna().sum()"
   ]
  },
  {
   "cell_type": "code",
   "execution_count": 17,
   "metadata": {},
   "outputs": [
    {
     "name": "stdout",
     "output_type": "stream",
     "text": [
      "<class 'pandas.core.frame.DataFrame'>\n",
      "RangeIndex: 1712 entries, 0 to 1711\n",
      "Data columns (total 9 columns):\n",
      " #   Column             Non-Null Count  Dtype  \n",
      "---  ------             --------------  -----  \n",
      " 0   id_order           1712 non-null   int64  \n",
      " 1   id_produk          1712 non-null   int64  \n",
      " 2   nama_produk        1712 non-null   object \n",
      " 3   kategori_produk    1712 non-null   object \n",
      " 4   tanggal_pembelian  1712 non-null   object \n",
      " 5   kuantitas          1712 non-null   float64\n",
      " 6   total_harga        1712 non-null   float64\n",
      " 7   PPN                1712 non-null   float64\n",
      " 8   metode_bayar       1712 non-null   object \n",
      "dtypes: float64(3), int64(2), object(4)\n",
      "memory usage: 120.5+ KB\n"
     ]
    }
   ],
   "source": [
    "data.info()"
   ]
  },
  {
   "cell_type": "code",
   "execution_count": 20,
   "metadata": {},
   "outputs": [
    {
     "data": {
      "text/html": [
       "<div>\n",
       "<style scoped>\n",
       "    .dataframe tbody tr th:only-of-type {\n",
       "        vertical-align: middle;\n",
       "    }\n",
       "\n",
       "    .dataframe tbody tr th {\n",
       "        vertical-align: top;\n",
       "    }\n",
       "\n",
       "    .dataframe thead th {\n",
       "        text-align: right;\n",
       "    }\n",
       "</style>\n",
       "<table border=\"1\" class=\"dataframe\">\n",
       "  <thead>\n",
       "    <tr style=\"text-align: right;\">\n",
       "      <th></th>\n",
       "      <th>id_order</th>\n",
       "      <th>id_produk</th>\n",
       "      <th>nama_produk</th>\n",
       "      <th>kategori_produk</th>\n",
       "      <th>tanggal_pembelian</th>\n",
       "      <th>kuantitas</th>\n",
       "      <th>total_harga</th>\n",
       "      <th>PPN</th>\n",
       "      <th>metode_bayar</th>\n",
       "    </tr>\n",
       "  </thead>\n",
       "  <tbody>\n",
       "    <tr>\n",
       "      <th>0</th>\n",
       "      <td>1</td>\n",
       "      <td>3</td>\n",
       "      <td>hic1000 vitamin lemon</td>\n",
       "      <td>beverages</td>\n",
       "      <td>2023-04-09</td>\n",
       "      <td>5.0</td>\n",
       "      <td>39452.0</td>\n",
       "      <td>0.1</td>\n",
       "      <td>cash</td>\n",
       "    </tr>\n",
       "    <tr>\n",
       "      <th>1</th>\n",
       "      <td>2</td>\n",
       "      <td>6</td>\n",
       "      <td>nutrive benecol</td>\n",
       "      <td>special needs</td>\n",
       "      <td>2023-05-01</td>\n",
       "      <td>1.0</td>\n",
       "      <td>33732.0</td>\n",
       "      <td>0.1</td>\n",
       "      <td>cash</td>\n",
       "    </tr>\n",
       "    <tr>\n",
       "      <th>2</th>\n",
       "      <td>3</td>\n",
       "      <td>6</td>\n",
       "      <td>nutrive benecol</td>\n",
       "      <td>special needs</td>\n",
       "      <td>2023-03-22</td>\n",
       "      <td>4.0</td>\n",
       "      <td>23035.0</td>\n",
       "      <td>0.1</td>\n",
       "      <td>cash</td>\n",
       "    </tr>\n",
       "    <tr>\n",
       "      <th>3</th>\n",
       "      <td>4</td>\n",
       "      <td>5</td>\n",
       "      <td>prenagen lova</td>\n",
       "      <td>woman</td>\n",
       "      <td>2023-04-12</td>\n",
       "      <td>2.0</td>\n",
       "      <td>31237.0</td>\n",
       "      <td>0.1</td>\n",
       "      <td>link aja</td>\n",
       "    </tr>\n",
       "    <tr>\n",
       "      <th>4</th>\n",
       "      <td>5</td>\n",
       "      <td>6</td>\n",
       "      <td>nutrive benecol</td>\n",
       "      <td>special needs</td>\n",
       "      <td>2023-01-20</td>\n",
       "      <td>5.0</td>\n",
       "      <td>32000.0</td>\n",
       "      <td>0.1</td>\n",
       "      <td>cash</td>\n",
       "    </tr>\n",
       "  </tbody>\n",
       "</table>\n",
       "</div>"
      ],
      "text/plain": [
       "   id_order  id_produk            nama_produk kategori_produk  \\\n",
       "0         1          3  hic1000 vitamin lemon       beverages   \n",
       "1         2          6        nutrive benecol   special needs   \n",
       "2         3          6        nutrive benecol   special needs   \n",
       "3         4          5          prenagen lova           woman   \n",
       "4         5          6        nutrive benecol   special needs   \n",
       "\n",
       "  tanggal_pembelian  kuantitas  total_harga  PPN metode_bayar  \n",
       "0        2023-04-09        5.0      39452.0  0.1         cash  \n",
       "1        2023-05-01        1.0      33732.0  0.1         cash  \n",
       "2        2023-03-22        4.0      23035.0  0.1         cash  \n",
       "3        2023-04-12        2.0      31237.0  0.1     link aja  \n",
       "4        2023-01-20        5.0      32000.0  0.1         cash  "
      ]
     },
     "execution_count": 20,
     "metadata": {},
     "output_type": "execute_result"
    }
   ],
   "source": [
    "data.head()"
   ]
  },
  {
   "cell_type": "code",
   "execution_count": 21,
   "metadata": {},
   "outputs": [],
   "source": [
    "data = data.astype({\n",
    "    'tanggal_pembelian' : 'datetime64[ns]',\n",
    "    'kategori_produk' : 'category',\n",
    "    'kuantitas' : 'int64',\n",
    "    'total_harga' : 'int64'\n",
    "})"
   ]
  },
  {
   "cell_type": "code",
   "execution_count": 23,
   "metadata": {},
   "outputs": [
    {
     "name": "stdout",
     "output_type": "stream",
     "text": [
      "<class 'pandas.core.frame.DataFrame'>\n",
      "RangeIndex: 1712 entries, 0 to 1711\n",
      "Data columns (total 9 columns):\n",
      " #   Column             Non-Null Count  Dtype         \n",
      "---  ------             --------------  -----         \n",
      " 0   id_order           1712 non-null   int64         \n",
      " 1   id_produk          1712 non-null   int64         \n",
      " 2   nama_produk        1712 non-null   object        \n",
      " 3   kategori_produk    1712 non-null   category      \n",
      " 4   tanggal_pembelian  1712 non-null   datetime64[ns]\n",
      " 5   kuantitas          1712 non-null   int64         \n",
      " 6   total_harga        1712 non-null   int64         \n",
      " 7   PPN                1712 non-null   float64       \n",
      " 8   metode_bayar       1712 non-null   object        \n",
      "dtypes: category(1), datetime64[ns](1), float64(1), int64(4), object(2)\n",
      "memory usage: 109.0+ KB\n"
     ]
    }
   ],
   "source": [
    "data.info()"
   ]
  },
  {
   "cell_type": "code",
   "execution_count": null,
   "metadata": {},
   "outputs": [],
   "source": []
  }
 ],
 "metadata": {
  "kernelspec": {
   "display_name": "Python 3",
   "language": "python",
   "name": "python3"
  },
  "language_info": {
   "codemirror_mode": {
    "name": "ipython",
    "version": 3
   },
   "file_extension": ".py",
   "mimetype": "text/x-python",
   "name": "python",
   "nbconvert_exporter": "python",
   "pygments_lexer": "ipython3",
   "version": "3.10.11"
  },
  "orig_nbformat": 4
 },
 "nbformat": 4,
 "nbformat_minor": 2
}
